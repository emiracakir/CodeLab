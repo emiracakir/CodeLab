{
  "nbformat": 4,
  "nbformat_minor": 0,
  "metadata": {
    "colab": {
      "name": "CtoF-ML.ipynb",
      "provenance": [],
      "collapsed_sections": [],
      "authorship_tag": "ABX9TyNbvOH2fUmFKtajzie0DAkM",
      "include_colab_link": true
    },
    "kernelspec": {
      "name": "python3",
      "display_name": "Python 3"
    },
    "language_info": {
      "name": "python"
    }
  },
  "cells": [
    {
      "cell_type": "markdown",
      "metadata": {
        "id": "view-in-github",
        "colab_type": "text"
      },
      "source": [
        "<a href=\"https://colab.research.google.com/github/emiracakir/CodeLab/blob/master/CtoF_ML.ipynb\" target=\"_parent\"><img src=\"https://colab.research.google.com/assets/colab-badge.svg\" alt=\"Open In Colab\"/></a>"
      ]
    },
    {
      "cell_type": "code",
      "metadata": {
        "id": "XSh4l1aOJ9aZ"
      },
      "source": [
        "import tensorflow as tf"
      ],
      "execution_count": 1,
      "outputs": []
    },
    {
      "cell_type": "code",
      "metadata": {
        "id": "ycEy0WzIKEPL"
      },
      "source": [
        "import numpy as np\n",
        "import logging\n",
        "logger = tf.get_logger()\n",
        "logger.setLevel(logging.ERROR)"
      ],
      "execution_count": 5,
      "outputs": []
    },
    {
      "cell_type": "code",
      "metadata": {
        "id": "RbFfLgcUMFWE"
      },
      "source": [
        "celsius_q    = np.array([-40, -10,  0,  8, 15, 22,  38],  dtype=float)\n",
        "fahrenheit_a = np.array([-40,  14, 32, 46, 59, 72, 100],  dtype=float)"
      ],
      "execution_count": 30,
      "outputs": []
    },
    {
      "cell_type": "code",
      "metadata": {
        "id": "l75zs0j6KcUZ"
      },
      "source": [
        "lay0 = tf.keras.layers.Dense(units = 1, input_shape =[1])"
      ],
      "execution_count": 31,
      "outputs": []
    },
    {
      "cell_type": "code",
      "metadata": {
        "id": "U5mJMonwLM0e"
      },
      "source": [
        "model = tf.keras.Sequential([lay0])"
      ],
      "execution_count": 32,
      "outputs": []
    },
    {
      "cell_type": "code",
      "metadata": {
        "id": "kLyaNb7dLTv2"
      },
      "source": [
        "model.compile(loss='mean_squared_error', optimizer=tf.keras.optimizers.Adam(0.1))"
      ],
      "execution_count": 40,
      "outputs": []
    },
    {
      "cell_type": "code",
      "metadata": {
        "colab": {
          "base_uri": "https://localhost:8080/"
        },
        "id": "T4MryiUxL0od",
        "outputId": "71eaaa73-cf4a-4d1d-deb0-66d36e7fe646"
      },
      "source": [
        "Mfit = model.fit(celsius_q, fahrenheit_a, epochs=500, verbose=False)\n",
        "print(\"Finished model training\")"
      ],
      "execution_count": 41,
      "outputs": [
        {
          "output_type": "stream",
          "text": [
            "Finished model training\n"
          ],
          "name": "stdout"
        }
      ]
    },
    {
      "cell_type": "code",
      "metadata": {
        "colab": {
          "base_uri": "https://localhost:8080/",
          "height": 296
        },
        "id": "sX5xqx7XMhJd",
        "outputId": "88ae5fa9-eec9-485c-db0c-97b08a23ede2"
      },
      "source": [
        "import matplotlib.pyplot as plt\n",
        "plt.xlabel('Epochs Number')\n",
        "plt.ylabel('Loss Magnitude')\n",
        "plt.plot(Mfit.history['loss'])"
      ],
      "execution_count": 42,
      "outputs": [
        {
          "output_type": "execute_result",
          "data": {
            "text/plain": [
              "[<matplotlib.lines.Line2D at 0x7f0de4c74950>]"
            ]
          },
          "metadata": {
            "tags": []
          },
          "execution_count": 42
        },
        {
          "output_type": "display_data",
          "data": {
            "image/png": "[encoded data removed]",
            "text/plain": [
              "<Figure size 432x288 with 1 Axes>"
            ]
          },
          "metadata": {
            "tags": [],
            "needs_background": "light"
          }
        }
      ]
    },
    {
      "cell_type": "code",
      "metadata": {
        "colab": {
          "base_uri": "https://localhost:8080/"
        },
        "id": "bXWjvZuuOXMO",
        "outputId": "551d38d8-f4fb-4d8d-bb62-0b7fe9e8fda6"
      },
      "source": [
        "print(model.predict([100.0]))"
      ],
      "execution_count": 43,
      "outputs": [
        {
          "output_type": "stream",
          "text": [
            "[[211.56007]]\n"
          ],
          "name": "stdout"
        }
      ]
    },
    {
      "cell_type": "code",
      "metadata": {
        "colab": {
          "base_uri": "https://localhost:8080/"
        },
        "id": "-JIVyZjuOwAx",
        "outputId": "296645a6-ec54-4ad7-e7f1-abc11bf7964e"
      },
      "source": [
        "print('These are the layer variables {}'.format(lay0.get_weights()))"
      ],
      "execution_count": 44,
      "outputs": [
        {
          "output_type": "stream",
          "text": [
            "These are the layer variables [array([[1.8080117]], dtype=float32), array([30.758913], dtype=float32)]\n"
          ],
          "name": "stdout"
        }
      ]
    },
    {
      "cell_type": "code",
      "metadata": {
        "id": "V6k3Qom_PM9-"
      },
      "source": [
        "#------------------------------------------------------------------------------------------------------------"
      ],
      "execution_count": 45,
      "outputs": []
    },
    {
      "cell_type": "code",
      "metadata": {
        "colab": {
          "base_uri": "https://localhost:8080/"
        },
        "id": "UOLBSEEVPUTk",
        "outputId": "52c64dd6-8a50-460a-a411-deeff60875a4"
      },
      "source": [
        "l0 = tf.keras.layers.Dense(units = 4, input_shape=[1])\n",
        "l1 = tf.keras.layers.Dense(units = 4)\n",
        "l2 = tf.keras.layers.Dense(units = 4)\n",
        "l3 = tf.keras.layers.Dense(units = 1)\n",
        "model = tf.keras.Sequential([l0,l1,l2,l3])\n",
        "model.compile(loss = 'mean_squared_error', optimizer = tf.keras.optimizers.Adam(0.1))\n",
        "model.fit(celsius_q, fahrenheit_a, epochs = 1500, verbose=False)\n",
        "print('Model traning is completed.')\n",
        "print(model.predict([100.0]))\n",
        "print('Model predicts that 100 degrees Celsius is: {} degrees Fahrenheit'.format(model.predict([100.])))\n",
        "print('These are the layer 0 variables {}'.format(l0.get_weights()))\n",
        "print('These are the layer 1 variables {}'.format(l1.get_weights()))\n",
        "print('These are the layer 2 variables {}'.format(l2.get_weights()))\n",
        "print('These are the layer 3 variables {}'.format(l2.get_weights()))"
      ],
      "execution_count": 50,
      "outputs": [
        {
          "output_type": "stream",
          "text": [
            "Model traning is completed.\n",
            "[[211.74748]]\n",
            "Model predicts that 100 degrees Celsius is: [[211.74748]] degrees Fahrenheit\n",
            "These are the layer 0 variables [array([[-0.17420365,  0.32034585,  0.6538939 , -0.5638308 ]],\n",
            "      dtype=float32), array([-2.8230152, -2.6361177,  2.813629 , -2.6476505], dtype=float32)]\n",
            "These are the layer 1 variables [array([[-0.6222388 , -0.13158976,  0.51074666,  0.2819288 ],\n",
            "       [-0.46517158,  0.43674794, -0.02910656,  0.23507103],\n",
            "       [ 0.9063002 ,  0.24936321,  0.15941492, -0.53901875],\n",
            "       [-0.43053293,  0.7137072 , -0.55138814, -0.63085747]],\n",
            "      dtype=float32), array([ 2.961117  , -1.4512843 ,  2.6630182 ,  0.84009415], dtype=float32)]\n",
            "These are the layer 2 variables [array([[-0.56447756, -0.04511859,  0.85781777,  0.9712698 ],\n",
            "       [-0.22441533,  0.55690485, -0.05846953, -0.40453282],\n",
            "       [-0.14786649,  0.53401065, -0.65228605,  0.77675694],\n",
            "       [ 0.39359388,  0.67289305, -0.02836886,  0.33000916]],\n",
            "      dtype=float32), array([-2.8432865,  2.04746  ,  2.8948615,  2.9028041], dtype=float32)]\n",
            "These are the layer 3 variables [array([[-0.56447756, -0.04511859,  0.85781777,  0.9712698 ],\n",
            "       [-0.22441533,  0.55690485, -0.05846953, -0.40453282],\n",
            "       [-0.14786649,  0.53401065, -0.65228605,  0.77675694],\n",
            "       [ 0.39359388,  0.67289305, -0.02836886,  0.33000916]],\n",
            "      dtype=float32), array([-2.8432865,  2.04746  ,  2.8948615,  2.9028041], dtype=float32)]\n"
          ],
          "name": "stdout"
        }
      ]
    },
    {
      "cell_type": "code",
      "metadata": {
        "id": "vttYZz2VRwGs"
      },
      "source": [
        ""
      ],
      "execution_count": null,
      "outputs": []
    }
  ]
}